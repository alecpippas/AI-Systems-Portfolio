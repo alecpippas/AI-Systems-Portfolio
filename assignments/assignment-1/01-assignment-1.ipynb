{
 "cells": [
  {
   "cell_type": "markdown",
   "metadata": {},
   "source": [
    "## Development Environment Setup\n",
    "\n"
   ]
  },
  {
   "cell_type": "markdown",
   "metadata": {},
   "source": [
    "Cloned Repo within WSL 2 filesystem:\n",
    "\n",
    "![alt text](image.png)"
   ]
  },
  {
   "cell_type": "markdown",
   "metadata": {},
   "source": [
    "USing VS Code to access Git Repo running inside Docker Container within WSL 2 environment:\n",
    "\n",
    "![alt text](image-2.png)\n"
   ]
  },
  {
   "cell_type": "markdown",
   "metadata": {},
   "source": [
    "Executed rye sync command within WSL 2 Docker:\n",
    "\n",
    "![alt text](image-1.png)"
   ]
  },
  {
   "cell_type": "markdown",
   "metadata": {},
   "source": [
    "Activate Virtual Environment within Docker Container:\n",
    "\n",
    "![alt text](image-3.png)"
   ]
  },
  {
   "cell_type": "markdown",
   "metadata": {},
   "source": [
    "## Information Theory Basics"
   ]
  },
  {
   "cell_type": "markdown",
   "metadata": {},
   "source": [
    "#### a. Is H(x|y) = H(y|x)?\n",
    "\n",
    "$$\n",
    "H(X \\mid Y)\n",
    "= \\sum_{y \\in \\mathcal{Y}} \\sum_{x \\in \\mathcal{X}}\n",
    "   p(x,y)\\;\\log \\!\\biggl(\\frac{1}{p(x\\mid y)}\\biggr).\n",
    "$$\n",
    "\n",
    "$$ H(X|Y) = \\sum_{y} P(y) H(X|y) $$\n",
    "\n",
    "$$ H(Y|X) = \\sum_{x} P(x) H(Y|x) $$\n",
    "\n",
    "$$\n",
    "H(X | y) = \\sum_{x \\in \\mathcal{X}} p(x | y) \\log \\frac{1}{p(x | y)}\n",
    "$$\n",
    "\n",
    "$$\n",
    "H(Y | x) = \\sum_{y \\in \\mathcal{Y}} p(y | x) \\log \\frac{1}{p(y | x)}\n",
    "$$\n"
   ]
  },
  {
   "cell_type": "markdown",
   "metadata": {},
   "source": [
    "Calculate all the marginal probabilities:\n",
    "\n",
    "$$\n",
    "p(y) = \\sum_{x} p(x,y)\n",
    "$$\n",
    "\n",
    "$$\n",
    "p(y=1) = \\frac{1}{8} + \\frac{1}{16} + \\frac{1}{32} + \\frac{1}{32}  = \\frac{8}{32} = \\frac{1}{4}\n",
    "$$\n",
    "\n",
    "$$\n",
    "p(y=2) = \\frac{1}{16} + \\frac{1}{8} + \\frac{1}{32} + \\frac{1}{32} = \\frac{8}{32} = \\frac{1}{4}\n",
    "$$\n",
    "\n",
    "$$\n",
    "p(y=3) = \\frac{1}{16} + \\frac{1}{16} + \\frac{1}{16} + \\frac{1}{16} = \\frac{8}{32} = \\frac{1}{4}\n",
    "$$\n",
    "\n",
    "$$\n",
    "p(y=4) = \\frac{1}{4} + 0 + 0 + 0 = \\frac{1}{4}\n",
    "$$\n",
    "\n",
    "$$\n",
    "p(x) = \\sum_{y} p(x,y)\n",
    "$$\n",
    "\n",
    "$$\n",
    "p(x=1) = \\frac{1}{8} + \\frac{1}{16} + \\frac{1}{16} + \\frac{1}{4} = \\frac{1}{2}\n",
    "$$\n",
    "\n",
    "$$\n",
    "p(x=2) = \\frac{1}{16} + \\frac{1}{8} + \\frac{1}{16} + 0 = \\frac{1}{4}\n",
    "$$\n",
    "\n",
    "$$\n",
    "p(x=3) = \\frac{1}{32} + \\frac{1}{32} + \\frac{1}{16} + 0 = \\frac{1}{8}\n",
    "$$\n",
    "\n",
    "$$\n",
    "p(x=4) = \\frac{1}{32} + \\frac{1}{32} + \\frac{1}{16} + 0 = \\frac{1}{8}\n",
    "$$\n"
   ]
  },
  {
   "cell_type": "markdown",
   "metadata": {},
   "source": [
    "Calculate all the p(x|y) conditional probabilities:\n",
    "\n",
    "$$\n",
    "\\text{For } y=1: \\quad\n",
    "p(x=1 \\mid y=1)=\\frac{\\frac{1}{8}}{\\frac{1}{4}}=\\frac{1}{2}, \\quad\n",
    "p(x=2 \\mid y=1)=\\frac{\\frac{1}{16}}{\\frac{1}{4}}=\\frac{1}{4}, \\quad\n",
    "p(x=3 \\mid y=1)=\\frac{\\frac{1}{32}}{\\frac{1}{4}}=\\frac{1}{8}, \\quad\n",
    "p(x=4 \\mid y=1)=\\frac{\\frac{1}{32}}{\\frac{1}{4}}=\\frac{1}{8}.\n",
    "$$\n",
    "\n",
    "$$\n",
    "\\text{For } y=2: \\quad\n",
    "p(x=1 \\mid y=2)=\\frac{\\frac{1}{16}}{\\frac{1}{4}}=\\frac{1}{4}, \\quad\n",
    "p(x=2 \\mid y=2)=\\frac{\\frac{1}{8}}{\\frac{1}{4}}=\\frac{1}{2}, \\quad\n",
    "p(x=3 \\mid y=2)=\\frac{\\frac{1}{32}}{\\frac{1}{4}}=\\frac{1}{8}, \\quad\n",
    "p(x=4 \\mid y=2)=\\frac{\\frac{1}{32}}{\\frac{1}{4}}=\\frac{1}{8}.\n",
    "$$\n",
    "\n",
    "$$\n",
    "\\text{For } y=3: \\quad\n",
    "p(x=1 \\mid y=3)=\\frac{\\frac{1}{16}}{\\frac{1}{4}}=\\frac{1}{4}, \\quad\n",
    "p(x=2 \\mid y=3)=\\frac{\\frac{1}{16}}{\\frac{1}{4}}=\\frac{1}{4}, \\quad\n",
    "p(x=3 \\mid y=3)=\\frac{\\frac{1}{16}}{\\frac{1}{4}}=\\frac{1}{4}, \\quad\n",
    "p(x=4 \\mid y=3)=\\frac{\\frac{1}{16}}{\\frac{1}{4}}=\\frac{1}{4}.\n",
    "$$\n",
    "\n",
    "$$\n",
    "\\text{For } y=4: \\quad\n",
    "p(x=1 \\mid y=4)=\\frac{\\frac{1}{4}}{\\frac{1}{4}}=1, \\quad\n",
    "p(x=2 \\mid y=4)=\\frac{0}{\\frac{1}{4}}=0, \\quad\n",
    "p(x=3 \\mid y=4)=\\frac{0}{\\frac{1}{4}}=0, \\quad\n",
    "p(x=4 \\mid y=4)=\\frac{0}{\\frac{1}{4}}=0.\n",
    "$$\n"
   ]
  },
  {
   "cell_type": "markdown",
   "metadata": {},
   "source": [
    "Calculate all the p(y|x) conditional probabilities:\n",
    "\n",
    "$$\n",
    "\\text{For } x=1: \\quad\n",
    "p(y=1 \\mid x=1)=\\frac{\\frac{1}{8}}{\\frac{1}{2}}=\\frac{1}{4}, \\quad\n",
    "p(y=2 \\mid x=1)=\\frac{\\frac{1}{16}}{\\frac{1}{2}}=\\frac{1}{8}, \\quad\n",
    "p(y=3 \\mid x=1)=\\frac{\\frac{1}{16}}{\\frac{1}{2}}=\\frac{1}{8}, \\quad\n",
    "p(y=4 \\mid x=1)=\\frac{\\frac{1}{4}}{\\frac{1}{2}}=\\frac{1}{2}.\n",
    "$$\n",
    "\n",
    "$$\n",
    "\\text{For } x=2: \\quad\n",
    "p(y=1 \\mid x=2)=\\frac{\\frac{1}{16}}{\\frac{1}{4}}=\\frac{1}{4}, \\quad\n",
    "p(y=2 \\mid x=2)=\\frac{\\frac{1}{8}}{\\frac{1}{4}}=\\frac{1}{2}, \\quad\n",
    "p(y=3 \\mid x=2)=\\frac{\\frac{1}{16}}{\\frac{1}{4}}=\\frac{1}{4}, \\quad\n",
    "p(y=4 \\mid x=2)=\\frac{0}{\\frac{1}{4}}=0.\n",
    "$$\n",
    "\n",
    "$$\n",
    "\\text{For } x=3: \\quad\n",
    "p(y=1 \\mid x=3)=\\frac{\\frac{1}{32}}{\\frac{1}{8}}=\\frac{1}{4}, \\quad\n",
    "p(y=2 \\mid x=3)=\\frac{\\frac{1}{32}}{\\frac{1}{8}}=\\frac{1}{4}, \\quad\n",
    "p(y=3 \\mid x=3)=\\frac{\\frac{1}{16}}{\\frac{1}{8}}=\\frac{1}{2}, \\quad\n",
    "p(y=4 \\mid x=3)=\\frac{0}{\\frac{1}{8}}=0.\n",
    "$$\n",
    "\n",
    "$$\n",
    "\\text{For } x=4: \\quad\n",
    "p(y=1 \\mid x=4)=\\frac{\\frac{1}{32}}{\\frac{1}{8}}=\\frac{1}{4}, \\quad\n",
    "p(y=2 \\mid x=4)=\\frac{\\frac{1}{32}}{\\frac{1}{8}}=\\frac{1}{4}, \\quad\n",
    "p(y=3 \\mid x=4)=\\frac{\\frac{1}{16}}{\\frac{1}{8}}=\\frac{1}{2}, \\quad\n",
    "p(y=4 \\mid x=4)=\\frac{0}{\\frac{1}{8}}=0.\n",
    "$$\n"
   ]
  },
  {
   "cell_type": "markdown",
   "metadata": {},
   "source": [
    "Calculate H(X|y) point-wise conditional entropies:\n",
    "\n",
    "$$\n",
    "H(X \\mid y=1) = \\frac{1}{2}\\log_2\\frac{1}{\\frac{1}{2}} + \\frac{1}{4}\\log_2\\frac{1}{\\frac{1}{4}} + \\frac{1}{8}\\log_2\\frac{1}{\\frac{1}{8}} + \\frac{1}{8}\\log_2\\frac{1}{\\frac{1}{8}}\n",
    "$$\n",
    "\n",
    "$$\n",
    "= \\frac{1}{2}\\cdot1 + \\frac{1}{4}\\cdot2 + \\frac{1}{8}\\cdot3 + \\frac{1}{8}\\cdot3\n",
    "= \\frac{1}{2} + \\frac{1}{2} + \\frac{3}{8} + \\frac{3}{8} = 1.75\\text{ bits}\n",
    "$$\n",
    "\n",
    "$$\n",
    "H(X \\mid y=2) = \\frac{1}{4}\\log_2\\frac{1}{\\frac{1}{4}} + \\frac{1}{2}\\log_2\\frac{1}{\\frac{1}{2}} + \\frac{1}{8}\\log_2\\frac{1}{\\frac{1}{8}} + \\frac{1}{8}\\log_2\\frac{1}{\\frac{1}{8}}\n",
    "$$\n",
    "\n",
    "$$\n",
    "= \\frac{1}{4}\\cdot2 + \\frac{1}{2}\\cdot1 + \\frac{1}{8}\\cdot3 + \\frac{1}{8}\\cdot3\n",
    "= \\frac{1}{2} + \\frac{1}{2} + \\frac{3}{8} + \\frac{3}{8} = 1.75\\text{ bits}\n",
    "$$\n",
    "\n",
    "$$\n",
    "H(X \\mid y=3) = 4\\left(\\frac{1}{4}\\log_2\\frac{1}{\\frac{1}{4}}\\right)\n",
    "= 4\\left(\\frac{1}{4}\\cdot2\\right) = 2\\text{ bits}\n",
    "$$\n",
    "\n",
    "$$\n",
    "H(X \\mid y=4) = 1\\cdot\\log_2\\frac{1}{1} + 0\\cdot\\log_2\\frac{1}{0} + 0\\cdot\\log_2\\frac{1}{0} + 0\\cdot\\log_2\\frac{1}{0}\n",
    "= 0\\text{ bits}\n",
    "$$\n"
   ]
  },
  {
   "cell_type": "markdown",
   "metadata": {},
   "source": [
    "Calculate H(Y|x) point-wise conditional entropies:\n",
    "\n",
    "$$\n",
    "H(Y \\mid x=1) = \\frac{1}{4}\\log_2\\frac{1}{\\frac{1}{4}} + \\frac{1}{8}\\log_2\\frac{1}{\\frac{1}{8}} + \\frac{1}{8}\\log_2\\frac{1}{\\frac{1}{8}} + \\frac{1}{2}\\log_2\\frac{1}{\\frac{1}{2}}\n",
    "$$\n",
    "\n",
    "$$\n",
    "= \\frac{1}{4}\\cdot2 + \\frac{1}{8}\\cdot3 + \\frac{1}{8}\\cdot3 + \\frac{1}{2}\\cdot1 \n",
    "= 0.5 + 0.375 + 0.375 + 0.5 = 1.75 \\text{ bits}\n",
    "$$\n",
    "\n",
    "$$\n",
    "H(Y \\mid x=2) = \\frac{1}{4}\\log_2\\frac{1}{\\frac{1}{4}} + \\frac{1}{2}\\log_2\\frac{1}{\\frac{1}{2}} + \\frac{1}{4}\\log_2\\frac{1}{\\frac{1}{4}} + 0\n",
    "$$\n",
    "\n",
    "$$\n",
    "= \\frac{1}{4}\\cdot2 + \\frac{1}{2}\\cdot1 + \\frac{1}{4}\\cdot2 \n",
    "= 0.5 + 0.5 + 0.5 = 1.5 \\text{ bits}\n",
    "$$\n",
    "\n",
    "$$\n",
    "H(Y \\mid x=3) = \\frac{1}{4}\\log_2\\frac{1}{\\frac{1}{4}} + \\frac{1}{4}\\log_2\\frac{1}{\\frac{1}{4}} + \\frac{1}{2}\\log_2\\frac{1}{\\frac{1}{2}} + 0\n",
    "$$\n",
    "\n",
    "$$\n",
    "= \\frac{1}{4}\\cdot2 + \\frac{1}{4}\\cdot2 + \\frac{1}{2}\\cdot1 \n",
    "= 0.5 + 0.5 + 0.5 = 1.5 \\text{ bits}\n",
    "$$\n",
    "\n",
    "$$\n",
    "H(Y \\mid x=4) = \\frac{1}{4}\\log_2\\frac{1}{\\frac{1}{4}} + \\frac{1}{4}\\log_2\\frac{1}{\\frac{1}{4}} + \\frac{1}{2}\\log_2\\frac{1}{\\frac{1}{2}} + 0\n",
    "$$\n",
    "\n",
    "$$\n",
    "= \\frac{1}{4}\\cdot2 + \\frac{1}{4}\\cdot2 + \\frac{1}{2}\\cdot1 \n",
    "= 0.5 + 0.5 + 0.5 = 1.5 \\text{ bits}\n",
    "$$\n"
   ]
  },
  {
   "cell_type": "markdown",
   "metadata": {},
   "source": [
    "#### b. Is H(x) - H(x|y) = H(y) - H(y|x)?"
   ]
  },
  {
   "cell_type": "markdown",
   "metadata": {},
   "source": [
    "$$ H(X|Y) = \\sum_{y} P(y) H(X|y) $$\n",
    "\n",
    "$$ H(Y|X) = \\sum_{x} P(x) H(Y|x) $$"
   ]
  },
  {
   "cell_type": "markdown",
   "metadata": {},
   "source": [
    "Calculate H(X|Y) and H(Y|X) conditional entropies:\n",
    "\n",
    "$$\n",
    "H(X|Y) = \\sum_{y} P(y) H(X|y)\n",
    "= \\frac{1}{4}\\Bigl( H(X|y=1) + H(X|y=2) + H(X|y=3) + H(X|y=4) \\Bigr)\n",
    "= \\frac{1}{4}\\Bigl( 1.75 + 1.75 + 2 + 0 \\Bigr)\n",
    "= \\frac{5.5}{4} = 1.375 \\text{ bits}\n",
    "$$\n",
    "\n",
    "$$\n",
    "H(Y|X) = \\sum_{x} P(x) H(Y|x)\n",
    "= \\frac{1}{2}\\cdot1.75 + \\frac{1}{4}\\cdot1.5 + \\frac{1}{8}\\cdot1.5 + \\frac{1}{8}\\cdot1.5\n",
    "= 0.875 + 0.375 + 0.1875 + 0.1875\n",
    "= 1.625 \\text{ bits}\n",
    "$$\n"
   ]
  },
  {
   "cell_type": "markdown",
   "metadata": {},
   "source": [
    "H(Y|X) and H(Y|X) are not equal."
   ]
  },
  {
   "cell_type": "markdown",
   "metadata": {},
   "source": [
    "#### b. Is H(x) - H(x|y) = H(y) - H(y|x)?"
   ]
  },
  {
   "cell_type": "markdown",
   "metadata": {},
   "source": [
    "$$\n",
    "H(X) = \\sum_{x \\in \\mathcal{X}} p(x) \\log \\frac{1}{p(x)}\n",
    "$$\n",
    "\n",
    "$$\n",
    "H(X) = \\sum_{x \\in \\mathcal{X}} p(x) \\log_2 \\frac{1}{p(x)}\n",
    "$$\n",
    "\n",
    "Calcuate H(X) and H(Y)\n",
    "\n",
    "$$\n",
    "H(X) = \\frac{1}{2}\\log_2\\frac{1}{\\frac{1}{2}} + \\frac{1}{4}\\log_2\\frac{1}{\\frac{1}{4}} + \\frac{1}{8}\\log_2\\frac{1}{\\frac{1}{8}} + \\frac{1}{8}\\log_2\\frac{1}{\\frac{1}{8}}\n",
    "$$\n",
    "\n",
    "$$\n",
    "= \\frac{1}{2}\\cdot 1 + \\frac{1}{4}\\cdot 2 + \\frac{1}{8}\\cdot 3 + \\frac{1}{8}\\cdot 3\n",
    "= 0.5 + 0.5 + 0.375 + 0.375 = 1.75 \\text{ bits}\n",
    "$$\n",
    "\n",
    "$$\n",
    "H(Y) = \\sum_{y \\in \\mathcal{Y}} p(y) \\log_2 \\frac{1}{p(y)}\n",
    "= 4\\left(\\frac{1}{4}\\log_2\\frac{1}{\\frac{1}{4}}\\right)\n",
    "= 4\\left(\\frac{1}{4}\\cdot 2\\right)\n",
    "= 2 \\text{ bits}\n",
    "$$\n",
    "\n",
    "Compare H(X) - H(X|Y) and H(Y) - H(Y|X):\n",
    "\n",
    "$$\n",
    "H(X) - H(X|Y) = 1.75 - 1.375 = 0.375 \\text{ bits}\n",
    "$$\n",
    "\n",
    "$$\n",
    "H(Y) - H(Y|X) = 2 - 1.625 = 0.375 \\text{ bits}\n",
    "$$\n",
    "\n",
    "Thus:\n",
    " \n",
    "$$\n",
    "H(X) - H(X|Y) = H(Y) - H(Y|X) = 0.375 \\text{ bits}.\n",
    "$$\n"
   ]
  },
  {
   "cell_type": "markdown",
   "metadata": {},
   "source": [
    "#### c. Calculate the mutual information I(x,y)."
   ]
  },
  {
   "cell_type": "markdown",
   "metadata": {},
   "source": [
    "We already have the mutual information between random variables X and Y of 0.375 bits. This is because I(X,Y) = H(X) - H(X|Y) = H(Y) - H(Y|X)"
   ]
  },
  {
   "cell_type": "markdown",
   "metadata": {},
   "source": [
    "## Maximum Likelihood Parameter Estimation\n"
   ]
  },
  {
   "cell_type": "markdown",
   "metadata": {},
   "source": [
    "### Task 1\n",
    "Simulate the interarrival times using an exponential distribution with the rate parameter 𝜆=100"
   ]
  },
  {
   "cell_type": "code",
   "execution_count": 9,
   "metadata": {},
   "outputs": [
    {
     "name": "stdout",
     "output_type": "stream",
     "text": [
      "Simulated 2000 inter-arrival times with rate parameter λ = 100.0.\n",
      "Sample mean of inter-arrival times: 0.0100 (should be ~ 1/100 = 0.01)\n"
     ]
    }
   ],
   "source": [
    "import torch\n",
    "import matplotlib.pyplot as plt\n",
    "\n",
    "\n",
    "lambda_param = 100.0\n",
    "\n",
    "# Number of samples (inter-arrival times)\n",
    "n_samples = 2000\n",
    "\n",
    "# Sample n_samples from the Exponential Distribution paramterized by lambda_param\n",
    "dist = torch.distributions.Exponential(rate=lambda_param)\n",
    "x_data = dist.sample((n_samples,))\n",
    "\n",
    "print(f\"Simulated {n_samples} inter-arrival times with rate parameter λ = {lambda_param}.\")\n",
    "print(f\"Sample mean of inter-arrival times: {x_data.mean().item():.4f} (should be ~ 1/100 = 0.01)\")\n",
    "\n"
   ]
  },
  {
   "cell_type": "markdown",
   "metadata": {},
   "source": [
    "###   Task 2\n",
    "Use the stochastic gradient descent (SGD) algorithm to minimize the negative log-likelihood of the exponential distribution. Output: (a) the estimated parameter after a number of iterations of your choice and (b) plot the value of objective function over the iteration index.\n",
    "\n",
    "\n"
   ]
  },
  {
   "cell_type": "code",
   "execution_count": 10,
   "metadata": {},
   "outputs": [
    {
     "name": "stdout",
     "output_type": "stream",
     "text": [
      "\n",
      "Estimated λ after 2000 iterations of SGD: nan\n",
      "True λ was 100.0000\n"
     ]
    },
    {
     "data": {
      "image/png": "[encoded data removed]",
      "text/plain": [
       "<Figure size 800x500 with 1 Axes>"
      ]
     },
     "metadata": {},
     "output_type": "display_data"
    }
   ],
   "source": [
    "# define a PyTorch \"parameter\" for λ, then minimize the NLL using SGD.\n",
    "\n",
    "\n",
    "log_lambda = torch.tensor(0.0, requires_grad=True)\n",
    "\n",
    "# Set up an SGD optimizer.\n",
    "#lr is the learning rate\n",
    "optimizer = torch.optim.SGD([log_lambda], lr=0.01)\n",
    "\n",
    "#track the value of the negative log-likelihood at each iteration\n",
    "nll_history = []\n",
    "\n",
    "\n",
    "def negative_log_likelihood(log_lambda_value, x):\n",
    "    \"\"\"\n",
    "    Negative log-likelihood for Exponential distribution given data x\n",
    "    and log_lambda_value = log(λ).\n",
    "    \"\"\"\n",
    "    rate = torch.exp(log_lambda_value)  # ensures positivity\n",
    "    n = len(x)\n",
    "    return -n * torch.log(rate) + rate * torch.sum(x)\n",
    "\n",
    "# Number of iterations for SGD\n",
    "n_iterations = 2000\n",
    "\n",
    "for step in range(n_iterations):\n",
    "    optimizer.zero_grad()  # reset gradients\n",
    "    \n",
    "    # Compute the NLL on the entire dataset\n",
    "    nll = negative_log_likelihood(log_lambda, x_data)\n",
    "    \n",
    "    # Backprop\n",
    "    nll.backward()\n",
    "    \n",
    "    # Take an SGD step\n",
    "    optimizer.step()\n",
    "    \n",
    "    # Track the NLL for plotting\n",
    "    nll_history.append(nll.item())\n",
    "\n",
    "\n",
    "\n",
    "# Our final estimate for λ after training\n",
    "estimated_lambda = torch.exp(log_lambda).item()\n",
    "\n",
    "print(f\"\\nEstimated λ after {n_iterations} iterations of SGD: {estimated_lambda:.4f}\")\n",
    "print(f\"True λ was {lambda_param:.4f}\")\n",
    "\n",
    "\n",
    "\n",
    "\n",
    "#   Plot the objective curve\n",
    "\n",
    "plt.figure(figsize=(8,5))\n",
    "plt.plot(nll_history, label='NLL')\n",
    "plt.title(\"Negative Log-Likelihood during SGD\")\n",
    "plt.xlabel(\"Iteration\")\n",
    "plt.ylabel(\"NLL\")\n",
    "plt.legend()\n",
    "plt.show()\n"
   ]
  },
  {
   "cell_type": "markdown",
   "metadata": {},
   "source": [
    "## Linear Regression and SGD"
   ]
  },
  {
   "cell_type": "code",
   "execution_count": 11,
   "metadata": {},
   "outputs": [],
   "source": [
    "import seaborn as sns\n",
    "\n",
    "# Apply the default theme\n",
    "sns.set_theme()"
   ]
  },
  {
   "cell_type": "code",
   "execution_count": 12,
   "metadata": {},
   "outputs": [],
   "source": [
    "import numpy as np\n",
    "import matplotlib.pyplot as plt\n",
    "\n",
    "# for reproducibility\n",
    "np.random.seed(1234)\n",
    "\n",
    "def create_toy_data(func, sample_size, std, domain=[0, 1]):\n",
    "    x = np.linspace(domain[0], domain[1], sample_size)\n",
    "    np.random.shuffle(x)\n",
    "    y = func(x) + np.random.normal(scale=std, size=x.shape)\n",
    "    return x, y\n",
    "\n",
    "def sinusoidal(x):\n",
    "    return np.sin(2 * np.pi * x)\n",
    "\n",
    "num_samples = 100\n",
    "\n",
    "x_train, y_train = create_toy_data(sinusoidal, num_samples, 0.25)\n",
    "\n",
    "x_test = np.linspace(0, 1, 100)\n",
    "y_test = sinusoidal(x_test)\n"
   ]
  },
  {
   "cell_type": "code",
   "execution_count": 13,
   "metadata": {},
   "outputs": [],
   "source": [
    "def polynomial_features(x, M):\n",
    "    \"\"\"\n",
    "    x: 1D numpy array of shape (N,)\n",
    "    M: degree of polynomial features\n",
    "    returns Phi of shape (N, M+1)\n",
    "    \"\"\"\n",
    "    N = x.shape[0]\n",
    "    Phi = np.ones((N, M+1))\n",
    "    for m in range(1, M+1):\n",
    "        Phi[:, m] = x**m\n",
    "    return Phi\n",
    "\n",
    "M = 9\n",
    "X_train = polynomial_features(x_train, M)\n",
    "X_test = polynomial_features(x_test, M)\n"
   ]
  },
  {
   "cell_type": "code",
   "execution_count": 14,
   "metadata": {},
   "outputs": [],
   "source": [
    "# Hyperparameters\n",
    "learning_rate = 0.01\n",
    "reg_lambda = 0.01\n",
    "max_epochs = 200\n",
    "\n",
    "N = X_train.shape[0]\n",
    "D = X_train.shape[1]\n",
    "\n",
    "# Initialize weights to zero \n",
    "w = np.zeros(D)\n",
    "\n",
    "# To store the average loss per epoch\n",
    "loss_history = []\n",
    "\n",
    "for epoch in range(max_epochs):\n",
    "    # Shuffle the training set each epoch\n",
    "    idx = np.random.permutation(N)\n",
    "    X_train_shuffled = X_train[idx]\n",
    "    y_train_shuffled = y_train[idx]\n",
    "    \n",
    "    epoch_loss = 0.0\n",
    "    \n",
    "    for i in range(N):\n",
    "        x_i = X_train_shuffled[i]  # shape: (D,)\n",
    "        y_i = y_train_shuffled[i]\n",
    "        \n",
    "        # Prediction\n",
    "        y_pred = np.dot(w, x_i)\n",
    "        \n",
    "        # Compute gradient for one example\n",
    "        grad = (y_pred - y_i) * x_i + reg_lambda * w\n",
    "        \n",
    "        # Parameter update\n",
    "        w = w - learning_rate * grad\n",
    "        \n",
    "        # Accumulate loss (for monitoring)\n",
    "        # Here we use the cost of one example:\n",
    "        loss_i = 0.5 * (y_pred - y_i)**2 + 0.5 * reg_lambda * np.sum(w**2)\n",
    "        epoch_loss += loss_i\n",
    "    \n",
    "    # Average loss over the epoch\n",
    "    epoch_loss /= N\n",
    "    loss_history.append(epoch_loss)\n"
   ]
  },
  {
   "cell_type": "code",
   "execution_count": 15,
   "metadata": {},
   "outputs": [
    {
     "data": {
      "image/png": "[encoded data removed]",
      "text/plain": [
       "<Figure size 800x600 with 1 Axes>"
      ]
     },
     "metadata": {},
     "output_type": "display_data"
    }
   ],
   "source": [
    "plt.figure(figsize=(8, 6))\n",
    "plt.plot(loss_history, label=\"Training Loss\")\n",
    "plt.xlabel(\"Epoch\")\n",
    "plt.ylabel(\"Loss\")\n",
    "plt.title(\"SGD Convergence for L2-Regularized Polynomial Regression\")\n",
    "plt.legend()\n",
    "plt.show()\n"
   ]
  },
  {
   "cell_type": "code",
   "execution_count": 16,
   "metadata": {},
   "outputs": [
    {
     "name": "stdout",
     "output_type": "stream",
     "text": [
      "Final learned weights (w):\n",
      "[ 0.79392376 -0.6545395  -1.21618426 -0.85010593 -0.36913788  0.02437239\n",
      "  0.30877623  0.50368612  0.63271293  0.71508488]\n"
     ]
    }
   ],
   "source": [
    "print(\"Final learned weights (w):\")\n",
    "print(w)\n"
   ]
  }
 ],
 "metadata": {
  "kernelspec": {
   "display_name": "Python 3",
   "language": "python",
   "name": "python3"
  },
  "language_info": {
   "codemirror_mode": {
    "name": "ipython",
    "version": 3
   },
   "file_extension": ".py",
   "mimetype": "text/x-python",
   "name": "python",
   "nbconvert_exporter": "python",
   "pygments_lexer": "ipython3",
   "version": "3.12.5"
  }
 },
 "nbformat": 4,
 "nbformat_minor": 2
}
